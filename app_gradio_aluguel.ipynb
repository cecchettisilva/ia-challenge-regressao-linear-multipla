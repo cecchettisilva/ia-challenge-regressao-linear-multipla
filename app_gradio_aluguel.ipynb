{
 "cells": [
  {
   "cell_type": "markdown",
   "id": "dbe66879",
   "metadata": {},
   "source": [
    "Gradio é uma biblioteca com o intuito de que possibilitar criar UIs, que interajam com modelos de machine learning."
   ]
  },
  {
   "cell_type": "code",
   "execution_count": 1,
   "metadata": {},
   "outputs": [
    {
     "name": "stderr",
     "output_type": "stream",
     "text": [
      "c:\\Users\\Will\\.virtualenvs\\ia-challenge-regressao-linear-multipla-YsxSnYpI\\lib\\site-packages\\tqdm\\auto.py:21: TqdmWarning: IProgress not found. Please update jupyter and ipywidgets. See https://ipywidgets.readthedocs.io/en/stable/user_install.html\n",
      "  from .autonotebook import tqdm as notebook_tqdm\n"
     ]
    }
   ],
   "source": [
    "# Importando bibliotecas\n",
    "import gradio as gr\n",
    "import joblib \n",
    "import pandas as pd"
   ]
  },
  {
   "cell_type": "code",
   "execution_count": 2,
   "metadata": {},
   "outputs": [],
   "source": [
    "# Configurar modelo para predição\n",
    "modelo = joblib.load('./modelo_aluguel.pkl')"
   ]
  },
  {
   "cell_type": "code",
   "execution_count": 3,
   "metadata": {},
   "outputs": [],
   "source": [
    "# Função para predição\n",
    "def predict(tamanho_m2, n_quartos, idade_casa, garagem, localizacao_Periferia, localizacao_Subúrbio):\n",
    "    \n",
    "    _localizacao_Periferia = \"Sim\" if localizacao_Periferia else \"Não\"\n",
    "    _localizacao_Subúrbio = \"Sim\" if localizacao_Subúrbio else \"Não\"\n",
    "\n",
    "    predicao_individual = {\n",
    "        'tamanho_m2': tamanho_m2,\n",
    "        'n_quartos': n_quartos,\n",
    "        'idade_casa': idade_casa,\n",
    "        'garagem': garagem,\n",
    "        'localizacao_Periferia': _localizacao_Periferia,\n",
    "        'localizacao_Subúrbio': _localizacao_Subúrbio\n",
    "    }\n",
    "\n",
    "    predict_df = pd.DataFrame(predicao_individual, index=[1])\n",
    "    aluguel = modelo.predict(predict_df)\n",
    "    return float(aluguel.reshape(-1))"
   ]
  },
  {
   "cell_type": "code",
   "execution_count": 4,
   "metadata": {},
   "outputs": [],
   "source": [
    "# Criar interface (UI)\n",
    "demo = gr.Interface(\n",
    "    fn=predict,\n",
    "    inputs=[\n",
    "        gr.Number(),\n",
    "        gr.Number(),\n",
    "        gr.Number(),\n",
    "        gr.Radio(['0', '1']),\n",
    "        gr.Radio(['Sim', 'Não']),\n",
    "        gr.Radio(['Sim', 'Não'])],\n",
    "    outputs=['number']\n",
    ")"
   ]
  },
  {
   "cell_type": "code",
   "execution_count": 5,
   "metadata": {},
   "outputs": [
    {
     "name": "stdout",
     "output_type": "stream",
     "text": [
      "Running on local URL:  http://127.0.0.1:7860\n",
      "\n",
      "To create a public link, set `share=True` in `launch()`.\n"
     ]
    },
    {
     "data": {
      "text/html": [
       "<div><iframe src=\"http://127.0.0.1:7860/\" width=\"100%\" height=\"500\" allow=\"autoplay; camera; microphone; clipboard-read; clipboard-write;\" frameborder=\"0\" allowfullscreen></iframe></div>"
      ],
      "text/plain": [
       "<IPython.core.display.HTML object>"
      ]
     },
     "metadata": {},
     "output_type": "display_data"
    },
    {
     "data": {
      "text/plain": []
     },
     "execution_count": 5,
     "metadata": {},
     "output_type": "execute_result"
    },
    {
     "name": "stderr",
     "output_type": "stream",
     "text": [
      "C:\\Users\\Will\\AppData\\Local\\Temp\\ipykernel_20700\\4129479264.py:18: DeprecationWarning: Conversion of an array with ndim > 0 to a scalar is deprecated, and will error in future. Ensure you extract a single element from your array before performing this operation. (Deprecated NumPy 1.25.)\n",
      "  return float(aluguel.reshape(-1))\n"
     ]
    }
   ],
   "source": [
    "# Testar o App Gradio\n",
    "demo.launch(share=False)"
   ]
  }
 ],
 "metadata": {
  "kernelspec": {
   "display_name": "ia-challenge-regressao-linear-multipla-YsxSnYpI",
   "language": "python",
   "name": "python3"
  },
  "language_info": {
   "codemirror_mode": {
    "name": "ipython",
    "version": 3
   },
   "file_extension": ".py",
   "mimetype": "text/x-python",
   "name": "python",
   "nbconvert_exporter": "python",
   "pygments_lexer": "ipython3",
   "version": "3.9.12"
  }
 },
 "nbformat": 4,
 "nbformat_minor": 5
}
