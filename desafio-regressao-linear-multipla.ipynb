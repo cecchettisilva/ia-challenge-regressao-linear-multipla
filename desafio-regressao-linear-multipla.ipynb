{
 "cells": [
  {
   "cell_type": "markdown",
   "id": "ffecf722",
   "metadata": {},
   "source": [
    "## Desafio - Regressão Linear Múltipla - Cursos Desenvolvimento de IA - RocketSeat"
   ]
  },
  {
   "cell_type": "markdown",
   "id": "abcdbcfd",
   "metadata": {},
   "source": [
    "### Sobre o desafio\n",
    "\n",
    "O objetivo deste exercício é construir um modelo de machine learning capaz de prever o valor do aluguel de um imóvel com base em suas características. Através da análise de um dataset de imóveis, você irá:\n",
    "\n",
    "1. **Explorar os dados:** Realizar uma análise exploratória dos dados para entender a distribuição das variáveis, identificar possíveis outliers e correlações.\n",
    "2. **Preparar os dados:** Limpar os dados, tratar valores ausentes e codificar variáveis categóricas.\n",
    "3. **Construir um modelo:** Utilizar um algoritmo de regressão linear para construir um modelo que relacione as características do imóvel com o valor do aluguel.\n",
    "4. **Avaliar o modelo:** Avaliar a performance do modelo utilizando métricas adequadas e analisar os resíduos para verificar a qualidade das previsões.\n",
    "5. **Interpretar os resultados:** Analisar os coeficientes do modelo para entender a importância de cada variável na previsão do valor do aluguel."
   ]
  },
  {
   "cell_type": "code",
   "execution_count": null,
   "id": "969ed86c",
   "metadata": {},
   "outputs": [],
   "source": [
    "# Importar bibliotecas gerais\n",
    "import pandas as pd \n",
    "import seaborn as sns\n",
    "import matplotlib.pyplot as plt\n",
    "import joblib\n",
    "import numpy as np\n",
    "from scipy.stats import zscore\n",
    "import pingouin as pg\n",
    "\n",
    "# Importando módulos do scikit-learn\n",
    "from sklearn.model_selection import train_test_split\n",
    "from sklearn.linear_model import LinearRegression\n",
    "from sklearn.preprocessing import StandardScaler, OneHotEncoder, OrdinalEncoder\n",
    "from sklearn.compose import ColumnTransformer\n",
    "from sklearn.pipeline import Pipeline\n",
    "from sklearn.impute import SimpleImputer\n",
    "from sklearn.metrics import r2_score, mean_absolute_error, mean_squared_error\n",
    "\n",
    "# Imports necessários para testes de normalidade\n",
    "from scipy.stats import shapiro, kstest, anderson\n",
    "from statsmodels.stats.diagnostic import lilliefors, het_goldfeldquandt"
   ]
  },
  {
   "cell_type": "markdown",
   "id": "daa8ce22",
   "metadata": {},
   "source": [
    "### Etapas:"
   ]
  },
  {
   "cell_type": "markdown",
   "id": "53524d49",
   "metadata": {},
   "source": [
    "1. **Carregar e explorar o dataset:** \n",
    "Carregue o arquivo CSV fornecido e explore os dados utilizando as funções do pandas."
   ]
  },
  {
   "cell_type": "code",
   "execution_count": null,
   "metadata": {},
   "outputs": [],
   "source": [
    "# Criando dataframe\n",
    "df_aluguel = pd.read_csv('./datasets/dataset_aluguel.csv')\n"
   ]
  },
  {
   "cell_type": "code",
   "execution_count": null,
   "metadata": {},
   "outputs": [],
   "source": [
    "# Checagem do dataset\n",
    "df_aluguel.info()"
   ]
  },
  {
   "cell_type": "code",
   "execution_count": null,
   "metadata": {},
   "outputs": [],
   "source": [
    "# Remover coluna Id\n",
    "df_aluguel.drop(columns='id', axis=1, inplace=True)"
   ]
  },
  {
   "cell_type": "code",
   "execution_count": null,
   "metadata": {},
   "outputs": [],
   "source": [
    "# Checagem do dataset após remover a coluna id\n",
    "df_aluguel.info()"
   ]
  },
  {
   "cell_type": "code",
   "execution_count": null,
   "metadata": {},
   "outputs": [],
   "source": [
    "# Primeiras linhas do DataFrame\n",
    "df_aluguel.head()"
   ]
  },
  {
   "cell_type": "code",
   "execution_count": null,
   "metadata": {},
   "outputs": [],
   "source": [
    "# Últimas linhas do DataFrame\n",
    "df_aluguel.tail()"
   ]
  },
  {
   "cell_type": "code",
   "execution_count": null,
   "metadata": {},
   "outputs": [],
   "source": [
    "# Dimensões do DataFrame\n",
    "df_aluguel.shape"
   ]
  },
  {
   "cell_type": "code",
   "execution_count": null,
   "metadata": {},
   "outputs": [],
   "source": [
    "# Estatísticas descritivas básicas\n",
    "df_aluguel.describe()"
   ]
  },
  {
   "cell_type": "code",
   "execution_count": null,
   "metadata": {},
   "outputs": [],
   "source": [
    "# Matriz de correlação usando mapa de calor\n",
    "plt.figure(figsize=(10, 8))\n",
    "sns.heatmap(df_aluguel.corr(), annot=True, cmap='coolwarm')\n",
    "plt.title('Matriz de Correlação')\n",
    "plt.show()"
   ]
  },
  {
   "cell_type": "code",
   "execution_count": null,
   "metadata": {},
   "outputs": [],
   "source": [
    "# Histograma geral das variáveis numéricas\n",
    "df_aluguel.hist(figsize=(10, 8))"
   ]
  },
  {
   "cell_type": "markdown",
   "id": "2dc454b9",
   "metadata": {},
   "source": [
    "2. **Pré-processamento:** Realize as seguintes tarefas:\n",
    "    - Identifique e trate valores ausentes.\n",
    "    - Remova outliers.\n",
    "    - Codifique as variáveis categóricas.\n",
    "    - Escale as variáveis numéricas (se necessário)."
   ]
  },
  {
   "cell_type": "code",
   "execution_count": null,
   "metadata": {},
   "outputs": [],
   "source": [
    "# Verificar valores ausentes\n",
    "df_aluguel.isnull().sum()"
   ]
  },
  {
   "cell_type": "code",
   "execution_count": null,
   "metadata": {},
   "outputs": [],
   "source": [
    "# Codificar variáveis categóricas\n",
    "df_aluguel = pd.get_dummies(df_aluguel, columns=['localizacao_Periferia', 'localizacao_Subúrbio'], dtype='int64')"
   ]
  },
  {
   "cell_type": "code",
   "execution_count": null,
   "metadata": {},
   "outputs": [],
   "source": [
    "# Box plot para detectar outliers\n",
    "sns.boxplot(data=df_aluguel, x='tamanho_m2')\n",
    "plt.show()\n",
    "sns.boxplot(data=df_aluguel, x='n_quartos')\n",
    "plt.show()\n",
    "sns.boxplot(data=df_aluguel, x='idade_casa')\n",
    "plt.show()\n",
    "sns.boxplot(data=df_aluguel, x='garagem')\n",
    "plt.show()\n",
    "sns.boxplot(data=df_aluguel, x='valor_aluguel')\n",
    "plt.show()"
   ]
  },
  {
   "cell_type": "code",
   "execution_count": null,
   "metadata": {},
   "outputs": [],
   "source": [
    "# Visualizar relações entre pares de variáveis numéricas\n",
    "sns.pairplot(df_aluguel)"
   ]
  },
  {
   "cell_type": "markdown",
   "id": "cad7f0fd",
   "metadata": {},
   "source": [
    "3. **Construção do modelo:**\n",
    "    - Divida os dados em conjuntos de treino e teste.\n",
    "    - Crie um pipeline para pré-processar os dados e treinar o modelo de regressão linear.\n",
    "    - Treine o modelo utilizando o conjunto de treino."
   ]
  },
  {
   "cell_type": "code",
   "execution_count": null,
   "metadata": {},
   "outputs": [],
   "source": [
    "# Criando conjunto de treino e teste\n",
    "X = df_aluguel.drop(columns='valor_aluguel', axis=1)\n",
    "y = df_aluguel['valor_aluguel']"
   ]
  },
  {
   "cell_type": "code",
   "execution_count": null,
   "metadata": {},
   "outputs": [],
   "source": [
    "# Dividindo conjunto de treino e teste\n",
    "X_train, X_test, y_train, y_test = train_test_split(X, y, test_size=0.3, random_state=51)"
   ]
  },
  {
   "cell_type": "code",
   "execution_count": null,
   "metadata": {},
   "outputs": [],
   "source": [
    "# Definir colunas numéricas\n",
    "colunas_numericas = ['tamanho_m2', 'n_quartos', 'idade_casa', 'garagem']"
   ]
  },
  {
   "cell_type": "code",
   "execution_count": null,
   "metadata": {},
   "outputs": [],
   "source": [
    "# Criar um Transformer de variáveis numéricas\n",
    "transformer_numericas = Pipeline(steps=[\n",
    "    ('imputer', SimpleImputer(strategy='median')),\n",
    "    ('scaler', StandardScaler())\n",
    "])"
   ]
  },
  {
   "cell_type": "code",
   "execution_count": null,
   "metadata": {},
   "outputs": [],
   "source": [
    "# Criar um ColumnTransformer que encapsula todas as transformações\n",
    "preprocessor = ColumnTransformer(\n",
    "    transformers=[\n",
    "        ('num', transformer_numericas, colunas_numericas)\n",
    "    ]\n",
    ")"
   ]
  },
  {
   "cell_type": "code",
   "execution_count": null,
   "metadata": {},
   "outputs": [],
   "source": [
    "# Pipeline principal = Pre Processamento + Treinamento\n",
    "model_regr = Pipeline(steps=[('preprocessor', preprocessor),\n",
    "                             ('regressor', LinearRegression())])"
   ]
  },
  {
   "cell_type": "code",
   "execution_count": null,
   "metadata": {},
   "outputs": [],
   "source": [
    "# Treinar modelo\n",
    "model_regr.fit(X_train, y_train)"
   ]
  },
  {
   "cell_type": "markdown",
   "id": "b9e8a3ea",
   "metadata": {},
   "source": [
    "4. **Avaliação do modelo:**\n",
    "    - Faça previsões sobre o conjunto de teste.\n",
    "    - Calcule métricas de desempenho (R², MAE, RMSE).\n",
    "    - Analise os resíduos para verificar a qualidade do modelo."
   ]
  },
  {
   "cell_type": "code",
   "execution_count": null,
   "metadata": {},
   "outputs": [],
   "source": [
    "# Gerar predição\n",
    "y_pred = model_regr.predict(X_test)\n",
    "y_pred"
   ]
  },
  {
   "cell_type": "code",
   "execution_count": null,
   "metadata": {},
   "outputs": [],
   "source": [
    "# Criar DataFrame com valores reais e previstos\n",
    "resultados = pd.DataFrame({\n",
    "    'Valor Real': y_test,\n",
    "    'Valor Previsto': y_pred,\n",
    "    'Diferença': y_test - y_pred\n",
    "})"
   ]
  },
  {
   "cell_type": "code",
   "execution_count": null,
   "metadata": {},
   "outputs": [],
   "source": [
    "# Mostrar primeiras linhas dos resultados\n",
    "print(\"Comparação entre valores reais e previstos:\")\n",
    "print(resultados.head())"
   ]
  },
  {
   "cell_type": "code",
   "execution_count": null,
   "metadata": {},
   "outputs": [],
   "source": [
    "# Estatísticas básicas das previsões\n",
    "print(\"\\nEstatísticas das previsões:\")\n",
    "print(resultados.describe())"
   ]
  },
  {
   "cell_type": "code",
   "execution_count": null,
   "metadata": {},
   "outputs": [],
   "source": [
    "# Visualizar distribuição das diferenças\n",
    "plt.figure(figsize=(10, 6))\n",
    "plt.hist(resultados['Diferença'], bins=30)\n",
    "plt.title('Distribuição dos Erros de Previsão')\n",
    "plt.xlabel('Diferença (Real - Previsto)')\n",
    "plt.ylabel('Frequência')\n",
    "plt.show()"
   ]
  },
  {
   "cell_type": "code",
   "execution_count": null,
   "metadata": {},
   "outputs": [],
   "source": [
    "# Calcular métricas de avaliação\n",
    "mae = mean_absolute_error(y_test, y_pred)\n",
    "mse = mean_squared_error(y_test, y_pred)\n",
    "rmse = np.sqrt(mse)\n",
    "r2 = r2_score(y_test, y_pred)\n",
    "\n",
    "print(f\"MAE: R$ {mae:.2f}\")\n",
    "print(f\"RMSE: R$ {rmse:.2f}\")\n",
    "print(f\"R²: {r2:.3f}\")"
   ]
  },
  {
   "cell_type": "code",
   "execution_count": null,
   "metadata": {},
   "outputs": [],
   "source": [
    "# Calcular resíduos (erros do modelo)\n",
    "residuos = y_test - y_pred\n",
    "residuos"
   ]
  },
  {
   "cell_type": "code",
   "execution_count": null,
   "metadata": {},
   "outputs": [],
   "source": [
    "# Transformar os resíduos na escala padrão -> (X - média) / desvio_padrao\n",
    "residuos_std = zscore(residuos)\n",
    "residuos_std"
   ]
  },
  {
   "cell_type": "code",
   "execution_count": null,
   "metadata": {},
   "outputs": [],
   "source": [
    "# Verificar linearidade dos resíduos: valores entre -2 e +2 (escala padrão)\n",
    "# Verificar homocedasticidade: valores em torno da reta\n",
    "sns.scatterplot(x=y_pred, y=residuos_std)\n",
    "plt.axhline(y=0)\n",
    "plt.axhline(y=-2)\n",
    "plt.axhline(y=2)"
   ]
  },
  {
   "cell_type": "code",
   "execution_count": null,
   "metadata": {},
   "outputs": [],
   "source": [
    "# Checar se resíduos seguem uma distribuição normal\n",
    "# qq plot \n",
    "plt.figure(figsize=(15, 8))\n",
    "pg.qqplot(residuos_std, dist='norm', confidence=0.95)\n",
    "plt.xlabel('Quantis teóricos')\n",
    "plt.ylabel('Resíduos na escala padrão')\n",
    "plt.show()"
   ]
  },
  {
   "cell_type": "markdown",
   "id": "1ead617c",
   "metadata": {},
   "source": [
    "5. **Interpretação dos resultados:**\n",
    "    - Analise os coeficientes do modelo para entender a importância de cada variável.\n",
    "    - Discuta as limitações do modelo e sugira possíveis melhorias."
   ]
  },
  {
   "cell_type": "code",
   "execution_count": null,
   "metadata": {},
   "outputs": [],
   "source": [
    "# Teste de normalidade de Shapiro-Wilk \n",
    "stat_shapiro, p_value_shapiro = shapiro(residuos)\n",
    "print(\"Estatistica do Teste: {} e P-Value: {}\".format(stat_shapiro, p_value_shapiro))"
   ]
  },
  {
   "cell_type": "code",
   "execution_count": null,
   "metadata": {},
   "outputs": [],
   "source": [
    "# Teste de normalidade de Kolmogorov-Smirnov\n",
    "stat_ks, p_value_ks = kstest(residuos, 'norm')\n",
    "print(\"Estatistica do Teste: {} e P-Value: {}\".format(stat_ks, p_value_ks))"
   ]
  },
  {
   "cell_type": "code",
   "execution_count": null,
   "metadata": {},
   "outputs": [],
   "source": [
    "# Teste de normalidade de Liliefors\n",
    "stat_ll, p_value_ll = lilliefors(residuos, dist='norm', pvalmethod='table')\n",
    "print(\"Estatistica do Teste: {} e P-Value: {}\".format(stat_ll, p_value_ll))"
   ]
  },
  {
   "cell_type": "code",
   "execution_count": null,
   "metadata": {},
   "outputs": [],
   "source": [
    "# Teste de normalidade de Anderson-Darling\n",
    "stat_and, critical_and, significance_and = anderson(residuos, dist='norm')"
   ]
  },
  {
   "cell_type": "code",
   "execution_count": null,
   "metadata": {},
   "outputs": [],
   "source": [
    "# Visualizar valores do valor critico para o teste de normalidade de Anderson-Darling\n",
    "critical_and"
   ]
  },
  {
   "cell_type": "code",
   "execution_count": null,
   "metadata": {},
   "outputs": [],
   "source": [
    "# Visualizar valores do valor de significância para o teste de normalidade de Anderson-Darling\n",
    "significance_and"
   ]
  },
  {
   "cell_type": "code",
   "execution_count": null,
   "metadata": {},
   "outputs": [],
   "source": [
    "# Validando a estatistica do teste com o valor critico\n",
    "print(\"Estatistica do Teste: {} e Valor Crítico: {}\".format(stat_and, critical_and[2]))"
   ]
  },
  {
   "cell_type": "code",
   "execution_count": null,
   "metadata": {},
   "outputs": [],
   "source": [
    "# Teste de Homocedasticidade Goldfeld-Quandt\n",
    "pipe = Pipeline(steps=[('preprocessor', preprocessor)])\n",
    "X_test_transformed = pipe.fit_transform(X_test)"
   ]
  },
  {
   "cell_type": "code",
   "execution_count": null,
   "metadata": {},
   "outputs": [],
   "source": [
    "# Consultar Pipeline criada\n",
    "X_test_transformed"
   ]
  },
  {
   "cell_type": "code",
   "execution_count": null,
   "metadata": {},
   "outputs": [],
   "source": [
    "# Executar teste Goldfeld-Quandt\n",
    "test_goldfeld = het_goldfeldquandt(residuos, X_test_transformed)\n",
    "stat_goldfeld = test_goldfeld[0]\n",
    "p_value_goldfeld = test_goldfeld[1]\n",
    "print(\"Estatistica de goldfeld: {} e P-Value: {}\".format(stat_goldfeld, p_value_goldfeld))"
   ]
  },
  {
   "cell_type": "code",
   "execution_count": null,
   "metadata": {},
   "outputs": [],
   "source": [
    "predicao_individual = {\n",
    "    'tamanho_m2': 106.18101782710437,\n",
    "    'n_quartos': 1,\n",
    "    'idade_casa': 36.7608059620386,\n",
    "    'garagem': 0,\n",
    "    'localizacao_Periferia': True,\n",
    "    'localizacao_Subúrbio': False\n",
    "}\n",
    "\n",
    "sample_df = pd.DataFrame(predicao_individual, index=[1])"
   ]
  },
  {
   "cell_type": "code",
   "execution_count": null,
   "metadata": {},
   "outputs": [],
   "source": [
    "# Visual Dataframe\n",
    "sample_df"
   ]
  },
  {
   "cell_type": "code",
   "execution_count": null,
   "metadata": {},
   "outputs": [],
   "source": [
    "# Predição\n",
    "model_regr.predict(sample_df)"
   ]
  },
  {
   "cell_type": "code",
   "execution_count": null,
   "metadata": {},
   "outputs": [],
   "source": [
    "# Salvar modelo para criar um UI de predição com o Gradio\n",
    "joblib.dump(model_regr, './modelo_aluguel.pkl')"
   ]
  },
  {
   "cell_type": "markdown",
   "id": "f66587c5",
   "metadata": {},
   "source": [
    "### Discussões"
   ]
  },
  {
   "cell_type": "markdown",
   "id": "ddcc82fd",
   "metadata": {},
   "source": [
    "Para um modelo mais preciso e com uma melhor capacidade de predição, seria interessante adicionar no dataset os seguintes itens:\n",
    "- número de banheiros;\n",
    "- área útil;\n",
    "- presença de algo relacionado à lazer (pscina, churrasqueira, quadra, etc);\n",
    "- com mobilia ou sem;\n",
    "- distância até o centro;\n",
    "- o que há nas proximidades;\n",
    "- bairro (está muito amplo apenas subúrbio e periferia);\n",
    "- índice de segurança da região;\n",
    "- duração do contrato;\n",
    "- tipo de garantia exigida (fiador, caução, etc);\n",
    "- valor de IPTU;"
   ]
  },
  {
   "cell_type": "code",
   "execution_count": null,
   "metadata": {},
   "outputs": [],
   "source": [
    "# Novo formato do dataset com colunas adicionais\n",
    "novo_dataset = {\n",
    "    'id': [],\n",
    "    'tamanho_m2': [],\n",
    "    'area_util': [],\n",
    "    'n_quartos': [],\n",
    "    'n_banheiros': [],\n",
    "    'idade_casa': [],\n",
    "    'garagem': [],\n",
    "    'dist_metro': [],   # em km\n",
    "    'dist_centro': [],  # em km\n",
    "    'bairro': [],      # nome do bairro\n",
    "    'indice_seguranca': [], # escala 0-100\n",
    "    'itens_lazer': [],  # lista de amenidades\n",
    "    'mobiliado': [],   # 0:não, 1:sim\n",
    "    'valor_iptu': [],\n",
    "    'duracao_contrato': [], # em meses\n",
    "    'tipo_garantia': [], # 1:fiador, 2:seguro, 3:caução\n",
    "    'valor_aluguel': []\n",
    "}"
   ]
  },
  {
   "cell_type": "markdown",
   "id": "212de5aa",
   "metadata": {},
   "source": [
    "Estas melhorias tornariam o modelo mais robusto por:\n",
    "\n",
    "Capturar mais dimensões que influenciam o preço\n",
    "Permitir análises mais granulares\n",
    "Melhorar a capacidade de generalização\n",
    "Reduzir o erro de previsão\n",
    "Aumentar a interpretabilidade do modelo\n",
    "O dataset atual, embora funcional, deixa de capturar muitas nuances importantes do mercado imobiliário que poderiam melhorar significativamente a precisão das previsões."
   ]
  }
 ],
 "metadata": {
  "kernelspec": {
   "display_name": "ia-challenge-regressao-linear-multipla-YsxSnYpI",
   "language": "python",
   "name": "python3"
  },
  "language_info": {
   "codemirror_mode": {
    "name": "ipython",
    "version": 3
   },
   "file_extension": ".py",
   "mimetype": "text/x-python",
   "name": "python",
   "nbconvert_exporter": "python",
   "pygments_lexer": "ipython3",
   "version": "3.9.12"
  }
 },
 "nbformat": 4,
 "nbformat_minor": 5
}
